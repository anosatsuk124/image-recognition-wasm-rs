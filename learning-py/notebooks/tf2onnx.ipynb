{
 "cells": [
  {
   "cell_type": "code",
   "execution_count": 3,
   "id": "3656f3fe-6c07-4b89-a6a5-58797bdcfa78",
   "metadata": {},
   "outputs": [],
   "source": [
    "import os\n",
    "import sys\n",
    "\n",
    "ROOT = os.getcwd()\n",
    "WORK = os.path.join(ROOT, \"../data/\")\n",
    "MODEL = \"20180402-114759\"\n",
    "\n",
    "# force tf2onnx to cpu\n",
    "os.environ['CUDA_VISIBLE_DEVICES'] = \"0\"\n",
    "os.environ['MODEL'] = MODEL\n",
    "os.environ['WORK'] = WORK"
   ]
  },
  {
   "cell_type": "code",
   "execution_count": 5,
   "id": "74e18da0-804d-46ae-89bf-39337f293b66",
   "metadata": {},
   "outputs": [
    {
     "name": "stdout",
     "output_type": "stream",
     "text": [
      "/home/anosatsuk124/miniconda3/envs/learning-py/lib/python3.7/runpy.py:125: RuntimeWarning: 'tf2onnx.convert' found in sys.modules after import of package 'tf2onnx', but prior to execution of 'tf2onnx.convert'; this may result in unpredictable behaviour\n",
      "  warn(RuntimeWarning(msg))\n",
      "WARNING:tensorflow:From /home/anosatsuk124/miniconda3/envs/learning-py/lib/python3.7/site-packages/tf2onnx/verbose_logging.py:76: The name tf.logging.set_verbosity is deprecated. Please use tf.compat.v1.logging.set_verbosity instead.\n",
      "\n",
      "2022-04-24 20:11:53,128 - WARNING - From /home/anosatsuk124/miniconda3/envs/learning-py/lib/python3.7/site-packages/tf2onnx/verbose_logging.py:76: The name tf.logging.set_verbosity is deprecated. Please use tf.compat.v1.logging.set_verbosity instead.\n",
      "\n",
      "OMP: Info #212: KMP_AFFINITY: decoding x2APIC ids.\n",
      "OMP: Info #210: KMP_AFFINITY: Affinity capable, using global cpuid leaf 11 info\n",
      "OMP: Info #154: KMP_AFFINITY: Initial OS proc set respected: 0-7\n",
      "OMP: Info #156: KMP_AFFINITY: 8 available OS procs\n",
      "OMP: Info #157: KMP_AFFINITY: Uniform topology\n",
      "OMP: Info #179: KMP_AFFINITY: 1 packages x 4 cores/pkg x 2 threads/core (4 total cores)\n",
      "OMP: Info #214: KMP_AFFINITY: OS proc to physical thread map:\n",
      "OMP: Info #171: KMP_AFFINITY: OS proc 0 maps to package 0 core 0 thread 0 \n",
      "OMP: Info #171: KMP_AFFINITY: OS proc 1 maps to package 0 core 0 thread 1 \n",
      "OMP: Info #171: KMP_AFFINITY: OS proc 2 maps to package 0 core 1 thread 0 \n",
      "OMP: Info #171: KMP_AFFINITY: OS proc 3 maps to package 0 core 1 thread 1 \n",
      "OMP: Info #171: KMP_AFFINITY: OS proc 4 maps to package 0 core 2 thread 0 \n",
      "OMP: Info #171: KMP_AFFINITY: OS proc 5 maps to package 0 core 2 thread 1 \n",
      "OMP: Info #171: KMP_AFFINITY: OS proc 6 maps to package 0 core 3 thread 0 \n",
      "OMP: Info #171: KMP_AFFINITY: OS proc 7 maps to package 0 core 3 thread 1 \n",
      "OMP: Info #250: KMP_AFFINITY: pid 1078261 tid 1078261 thread 0 bound to OS proc set 0\n",
      "Traceback (most recent call last):\n",
      "  File \"/home/anosatsuk124/miniconda3/envs/learning-py/lib/python3.7/runpy.py\", line 193, in _run_module_as_main\n",
      "    \"__main__\", mod_spec)\n",
      "  File \"/home/anosatsuk124/miniconda3/envs/learning-py/lib/python3.7/runpy.py\", line 85, in _run_code\n",
      "    exec(code, run_globals)\n",
      "  File \"/home/anosatsuk124/miniconda3/envs/learning-py/lib/python3.7/site-packages/tf2onnx/convert.py\", line 605, in <module>\n",
      "    main()\n",
      "  File \"/home/anosatsuk124/miniconda3/envs/learning-py/lib/python3.7/site-packages/tf2onnx/convert.py\", line 213, in main\n",
      "    graph_def, inputs, outputs = tf_loader.from_graphdef(args.graphdef, args.inputs, args.outputs)\n",
      "  File \"/home/anosatsuk124/miniconda3/envs/learning-py/lib/python3.7/site-packages/tf2onnx/tf_loader.py\", line 315, in from_graphdef\n",
      "    frozen_graph = freeze_session(sess, input_names=input_names, output_names=output_names)\n",
      "  File \"/home/anosatsuk124/miniconda3/envs/learning-py/lib/python3.7/site-packages/tf2onnx/tf_loader.py\", line 262, in freeze_session\n",
      "    graph_def = convert_variables_to_constants(sess, graph_def, output_node_names)\n",
      "  File \"/home/anosatsuk124/miniconda3/envs/learning-py/lib/python3.7/site-packages/tensorflow_core/python/util/deprecation.py\", line 324, in new_func\n",
      "    return func(*args, **kwargs)\n",
      "  File \"/home/anosatsuk124/miniconda3/envs/learning-py/lib/python3.7/site-packages/tensorflow_core/python/framework/graph_util_impl.py\", line 277, in convert_variables_to_constants\n",
      "    inference_graph = extract_sub_graph(input_graph_def, output_node_names)\n",
      "  File \"/home/anosatsuk124/miniconda3/envs/learning-py/lib/python3.7/site-packages/tensorflow_core/python/util/deprecation.py\", line 324, in new_func\n",
      "    return func(*args, **kwargs)\n",
      "  File \"/home/anosatsuk124/miniconda3/envs/learning-py/lib/python3.7/site-packages/tensorflow_core/python/framework/graph_util_impl.py\", line 197, in extract_sub_graph\n",
      "    _assert_nodes_are_present(name_to_node, dest_nodes)\n",
      "  File \"/home/anosatsuk124/miniconda3/envs/learning-py/lib/python3.7/site-packages/tensorflow_core/python/framework/graph_util_impl.py\", line 152, in _assert_nodes_are_present\n",
      "    assert d in name_to_node, \"%s is not in graph\" % d\n",
      "AssertionError: output0 is not in graph\n"
     ]
    }
   ],
   "source": [
    "!python -m tf2onnx.convert --graphdef $WORK/$MODEL/$MODEL.pb --output $WORK/$MODEL.onnx --inputs input0:0,input1:0 --outputs output0:1:"
   ]
  },
  {
   "cell_type": "code",
   "execution_count": null,
   "id": "b2d8943f-6472-4073-b060-f8a41ef99a08",
   "metadata": {},
   "outputs": [],
   "source": []
  }
 ],
 "metadata": {
  "kernelspec": {
   "display_name": "Python 3 (ipykernel)",
   "language": "python",
   "name": "python3"
  },
  "language_info": {
   "codemirror_mode": {
    "name": "ipython",
    "version": 3
   },
   "file_extension": ".py",
   "mimetype": "text/x-python",
   "name": "python",
   "nbconvert_exporter": "python",
   "pygments_lexer": "ipython3",
   "version": "3.7.12"
  }
 },
 "nbformat": 4,
 "nbformat_minor": 5
}
